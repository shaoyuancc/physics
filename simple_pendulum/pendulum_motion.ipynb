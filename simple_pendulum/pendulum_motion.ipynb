{
 "cells": [
  {
   "cell_type": "markdown",
   "metadata": {},
   "source": [
    "# Pendulum motion in python\n",
    "This notebook is based on [lukepolson's work](https://github.com/lukepolson/youtube_channel/blob/main/Python%20Metaphysics%20Series/vid4.ipynb)"
   ]
  },
  {
   "cell_type": "code",
   "execution_count": 2,
   "metadata": {},
   "outputs": [],
   "source": [
    "import numpy as np\n",
    "import sympy as smp\n",
    "import scipy.integrate\n",
    "import matplotlib.pyplot as plt\n",
    "import matplotlib.animation"
   ]
  },
  {
   "cell_type": "markdown",
   "metadata": {},
   "source": [
    "## Background\n",
    "\n",
    "Position confined to some 1D path: $x=x(\\theta)$ and $y=y(\\theta)$\n",
    "\n",
    "A few examples:\n",
    "- Parabola: $x=\\theta$ and $y=\\theta^2$\n",
    "- Simple Pendulum: $x=cos(\\theta)$ and $y=sin(\\theta)$\n",
    "- Tautochrome: $x=sin(2\\theta)$ and $y=1-cos(2\\theta)$\n",
    "- and there are many more...\n",
    "\n",
    "Kinetic Energy: $T=\\frac{1}{2}m(\\dot{x}^2+\\dot{y}^2)$\n",
    "\n",
    "Potential Energy: $V=mgy$\n",
    "\n",
    "The Lagrangian: $L=T-V$\n",
    "\n",
    "Lagranges Equation: $\\frac{\\partial L}{\\partial \\theta}-\\frac{d}{dt}\\frac{\\partial L}{\\partial \\dot{\\theta}}=0$"
   ]
  },
  {
   "cell_type": "markdown",
   "metadata": {},
   "source": [
    "## Define variables"
   ]
  },
  {
   "cell_type": "code",
   "execution_count": 3,
   "metadata": {},
   "outputs": [],
   "source": [
    "# Define time, mass, gravitational constant\n",
    "t, m, g = smp.symbols('t m g')\n",
    "# Define theta\n",
    "the = smp.symbols(r'\\theta', cls=smp.Function)\n",
    "# Define that theta is a function of time\n",
    "the = the(t)\n",
    "# Define theta's derivative and second derivative with respect to time\n",
    "the_d = smp.diff(the, t)\n",
    "the_dd = smp.diff(the_d, t)"
   ]
  },
  {
   "cell_type": "code",
   "execution_count": 4,
   "metadata": {},
   "outputs": [
    {
     "data": {
      "text/latex": [
       "$\\displaystyle \\frac{d^{2}}{d t^{2}} \\theta{\\left(t \\right)}$"
      ],
      "text/plain": [
       "Derivative(\\theta(t), (t, 2))"
      ]
     },
     "execution_count": 4,
     "metadata": {},
     "output_type": "execute_result"
    }
   ],
   "source": [
    "the_dd"
   ]
  },
  {
   "cell_type": "markdown",
   "metadata": {},
   "source": [
    "Define $x$ and $y$ to be functions of $\\theta$"
   ]
  },
  {
   "cell_type": "code",
   "execution_count": 5,
   "metadata": {},
   "outputs": [],
   "source": [
    "x, y = smp.symbols('x y', cls=smp.Function)\n",
    "x = x(the)\n",
    "y = y(the)"
   ]
  },
  {
   "cell_type": "markdown",
   "metadata": {},
   "source": [
    "Define the possible paths as an enum"
   ]
  },
  {
   "cell_type": "code",
   "execution_count": 6,
   "metadata": {},
   "outputs": [],
   "source": [
    "from enum import Enum\n",
    "\n",
    "class Path(Enum):\n",
    "    PARABOLA = 'Parabola'\n",
    "    TAUTOCHROME = 'Tautochrome'"
   ]
  },
  {
   "cell_type": "markdown",
   "metadata": {},
   "source": [
    "Decide what path you want to solve and visualise"
   ]
  },
  {
   "cell_type": "code",
   "execution_count": 7,
   "metadata": {},
   "outputs": [],
   "source": [
    "path = Path.TAUTOCHROME"
   ]
  },
  {
   "cell_type": "code",
   "execution_count": 8,
   "metadata": {},
   "outputs": [],
   "source": [
    "if path == Path.PARABOLA:\n",
    "    x = the\n",
    "    y = the**2\n",
    "    \n",
    "if path == Path.TAUTOCHROME:\n",
    "    x = smp.sin(2*the) + 2*the\n",
    "    y = 1-smp.cos(2*the)\n",
    "\n",
    "x_f = smp.lambdify(the, x)\n",
    "y_f = smp.lambdify(the, y)"
   ]
  },
  {
   "cell_type": "markdown",
   "metadata": {},
   "source": [
    "To see what the shape of the path is:"
   ]
  },
  {
   "cell_type": "code",
   "execution_count": 27,
   "metadata": {},
   "outputs": [
    {
     "data": {
      "image/png": "[encoded data removed]",
      "text/plain": [
       "<Figure size 432x288 with 1 Axes>"
      ]
     },
     "metadata": {
      "needs_background": "light"
     },
     "output_type": "display_data"
    }
   ],
   "source": [
    "the_temp = np.linspace(-np.pi/2, np.pi/2, 100)\n",
    "plt.plot(x_f(the_temp), y_f(the_temp), '-r')\n",
    "plt.xlabel(r'$x$')\n",
    "plt.ylabel(r'$y$')\n",
    "plt.title(f'Path: {path.value}')\n",
    "plt.axis('scaled')\n",
    "plt.grid(True)"
   ]
  },
  {
   "cell_type": "markdown",
   "metadata": {},
   "source": [
    "Define $T$, $V$, and $L$"
   ]
  },
  {
   "cell_type": "code",
   "execution_count": 10,
   "metadata": {},
   "outputs": [],
   "source": [
    "T = 1/2 * m * (smp.diff(x, t)**2 + smp.diff(y, t)**2)\n",
    "V = m * g * y\n",
    "L = T - V"
   ]
  },
  {
   "cell_type": "code",
   "execution_count": 11,
   "metadata": {},
   "outputs": [
    {
     "data": {
      "text/latex": [
       "$\\displaystyle - g m \\left(1 - \\cos{\\left(2 \\theta{\\left(t \\right)} \\right)}\\right) + 0.5 m \\left(\\left(2 \\cos{\\left(2 \\theta{\\left(t \\right)} \\right)} \\frac{d}{d t} \\theta{\\left(t \\right)} + 2 \\frac{d}{d t} \\theta{\\left(t \\right)}\\right)^{2} + 4 \\sin^{2}{\\left(2 \\theta{\\left(t \\right)} \\right)} \\left(\\frac{d}{d t} \\theta{\\left(t \\right)}\\right)^{2}\\right)$"
      ],
      "text/plain": [
       "-g*m*(1 - cos(2*\\theta(t))) + 0.5*m*((2*cos(2*\\theta(t))*Derivative(\\theta(t), t) + 2*Derivative(\\theta(t), t))**2 + 4*sin(2*\\theta(t))**2*Derivative(\\theta(t), t)**2)"
      ]
     },
     "execution_count": 11,
     "metadata": {},
     "output_type": "execute_result"
    }
   ],
   "source": [
    "L"
   ]
  },
  {
   "cell_type": "markdown",
   "metadata": {},
   "source": [
    "## Compute Lagrange's Equation\n",
    "\n",
    "$\\frac{\\partial L}{\\partial \\theta}-\\frac{d}{dt}\\frac{\\partial L}{\\partial \\dot{\\theta}}=0$"
   ]
  },
  {
   "cell_type": "code",
   "execution_count": 12,
   "metadata": {},
   "outputs": [],
   "source": [
    "LE = smp.diff(L, the) - smp.diff(smp.diff(L, the_d), t)\n",
    "LE = LE.simplify()"
   ]
  },
  {
   "cell_type": "code",
   "execution_count": 13,
   "metadata": {},
   "outputs": [
    {
     "data": {
      "text/latex": [
       "$\\displaystyle m \\left(- 2.0 g \\sin{\\left(2 \\theta{\\left(t \\right)} \\right)} + 8.0 \\sin{\\left(2 \\theta{\\left(t \\right)} \\right)} \\left(\\frac{d}{d t} \\theta{\\left(t \\right)}\\right)^{2} - 8.0 \\cos{\\left(2 \\theta{\\left(t \\right)} \\right)} \\frac{d^{2}}{d t^{2}} \\theta{\\left(t \\right)} - 8.0 \\frac{d^{2}}{d t^{2}} \\theta{\\left(t \\right)}\\right)$"
      ],
      "text/plain": [
       "m*(-2.0*g*sin(2*\\theta(t)) + 8.0*sin(2*\\theta(t))*Derivative(\\theta(t), t)**2 - 8.0*cos(2*\\theta(t))*Derivative(\\theta(t), (t, 2)) - 8.0*Derivative(\\theta(t), (t, 2)))"
      ]
     },
     "execution_count": 13,
     "metadata": {},
     "output_type": "execute_result"
    }
   ],
   "source": [
    "LE"
   ]
  },
  {
   "cell_type": "markdown",
   "metadata": {},
   "source": [
    "## Solve for $\\frac{d^2 \\theta}{dt^2}$\n",
    "\n",
    "Using an Ordinary Differential Equation (ODE) solver.\n",
    "\n",
    "Our system of equations will then be:\n",
    "$$\\frac{d \\theta}{dt} = \\omega$$\n",
    "$$\\frac{d \\omega}{dt} = \\frac{d^2 \\theta}{dt^2} = \\text{whatever is returned}$$\n"
   ]
  },
  {
   "cell_type": "code",
   "execution_count": 14,
   "metadata": {},
   "outputs": [],
   "source": [
    "deriv_1 = the_d\n",
    "deriv_2 = smp.solve(LE, the_dd)[0]"
   ]
  },
  {
   "cell_type": "code",
   "execution_count": 15,
   "metadata": {},
   "outputs": [
    {
     "data": {
      "text/latex": [
       "$\\displaystyle 0.25 \\left(- g + 4.0 \\left(\\frac{d}{d t} \\theta{\\left(t \\right)}\\right)^{2}\\right) \\tan{\\left(\\theta{\\left(t \\right)} \\right)}$"
      ],
      "text/plain": [
       "0.25*(-g + 4.0*Derivative(\\theta(t), t)**2)*tan(\\theta(t))"
      ]
     },
     "execution_count": 15,
     "metadata": {},
     "output_type": "execute_result"
    }
   ],
   "source": [
    "deriv_2"
   ]
  },
  {
   "cell_type": "markdown",
   "metadata": {},
   "source": [
    "## Convert it to a numpy expression"
   ]
  },
  {
   "cell_type": "code",
   "execution_count": 16,
   "metadata": {},
   "outputs": [],
   "source": [
    "deriv2_f = smp.lambdify((g, the, the_d), deriv_2)\n",
    "deriv1_f = smp.lambdify(the_d, deriv_1)"
   ]
  },
  {
   "cell_type": "markdown",
   "metadata": {},
   "source": [
    "## Create ODE\n",
    "\n",
    "$S=(\\theta, \\omega)$"
   ]
  },
  {
   "cell_type": "code",
   "execution_count": 17,
   "metadata": {},
   "outputs": [],
   "source": [
    "def dSdt(S, t):\n",
    "    return [\n",
    "        deriv1_f(S[1]), # = omega = dtheta/dt\n",
    "        deriv2_f(g, S[0], S[1]) # = domega/dt\n",
    "    ]"
   ]
  },
  {
   "cell_type": "markdown",
   "metadata": {},
   "source": [
    "## Solve"
   ]
  },
  {
   "cell_type": "code",
   "execution_count": 18,
   "metadata": {},
   "outputs": [],
   "source": [
    "t = np.linspace(0, 20, 500)\n",
    "g = 9.81\n",
    "if path == Path.PARABOLA:\n",
    "    y0_1 = [2, 0]\n",
    "    y0_2 = [3, 0]\n",
    "if path == Path.TAUTOCHROME:\n",
    "    y0_1 = [np.pi/4, 0]\n",
    "    y0_2 = [np.pi/5, 0]\n",
    "ans1 = scipy.integrate.odeint(dSdt, y0=y0_1, t=t) # Initial conditions: theta = 2, omega = 0 (starting from rest)\n",
    "ans2 = scipy.integrate.odeint(dSdt, y0=y0_2, t=t)"
   ]
  },
  {
   "cell_type": "markdown",
   "metadata": {},
   "source": [
    "## Plot"
   ]
  },
  {
   "cell_type": "code",
   "execution_count": 19,
   "metadata": {},
   "outputs": [
    {
     "data": {
      "image/png": "[encoded data removed]",
      "text/plain": [
       "<Figure size 432x288 with 1 Axes>"
      ]
     },
     "metadata": {
      "needs_background": "light"
     },
     "output_type": "display_data"
    }
   ],
   "source": [
    "def get_line_label(y0) -> str:\n",
    "    return rf'$y_0: \\theta={round(y0[0], 2)}, \\omega={round(y0[1], 2)}$'\n",
    "plt.plot(t, ans1.T[0], color = 'blue', label=get_line_label(y0_1))\n",
    "plt.plot(t, ans2.T[0], color = 'red', label=get_line_label(y0_2))\n",
    "plt.title(f'{path.value} Pendulum')\n",
    "plt.ylabel(r'$\\theta$')\n",
    "plt.xlabel(r'$t$')\n",
    "plt.legend();"
   ]
  },
  {
   "cell_type": "code",
   "execution_count": 20,
   "metadata": {},
   "outputs": [],
   "source": [
    "def get_xy(theta):\n",
    "    return x_f(theta), y_f(theta)"
   ]
  },
  {
   "cell_type": "code",
   "execution_count": 21,
   "metadata": {},
   "outputs": [],
   "source": [
    "x1, y1 = get_xy(ans1.T[0])\n",
    "x2, y2 = get_xy(ans2.T[0])"
   ]
  },
  {
   "cell_type": "code",
   "execution_count": 31,
   "metadata": {},
   "outputs": [],
   "source": [
    "%%capture\n",
    "def animate(i):\n",
    "    ln1.set_data([x1[i]], [y1[i]])\n",
    "    ln2.set_data([x2[i]], [y2[i]])\n",
    "\n",
    "fig, ax = plt.subplots(1,1)\n",
    "ax.grid()\n",
    "ln1, = plt.plot([], [], 'bo', label=get_line_label(y0_1))\n",
    "ln2, = plt.plot([], [], 'ro', label=get_line_label(y0_2))\n",
    "plt.title(f'{path.value} Pendulum')\n",
    "plt.legend()\n",
    "\n",
    "if path == Path.PARABOLA:\n",
    "    ax.set_ylim(-1, 16)\n",
    "if path == Path.TAUTOCHROME:\n",
    "    ax.set_ylim(-1, 4)\n",
    "ax.set_xlim(-4, 4)\n",
    "\n",
    "gif_file_name = f'{path.value.lower()}_pendulum.gif'\n",
    "ani = matplotlib.animation.FuncAnimation(fig, animate, frames=500, interval = 25);\n",
    "ani.save(gif_file_name, writer='pillow', fps=25, savefig_kwargs={'facecolor':'white'});\n"
   ]
  },
  {
   "cell_type": "markdown",
   "metadata": {},
   "source": [
    "Display the animation"
   ]
  },
  {
   "cell_type": "code",
   "execution_count": 30,
   "metadata": {},
   "outputs": [
    {
     "data": {
      "text/markdown": [
       "![animation](tautochrome_pendulum.gif)"
      ],
      "text/plain": [
       "<IPython.core.display.Markdown object>"
      ]
     },
     "execution_count": 30,
     "metadata": {},
     "output_type": "execute_result"
    }
   ],
   "source": [
    "from IPython.display import Markdown\n",
    "Markdown(f'![animation]({gif_file_name})')"
   ]
  }
 ],
 "metadata": {
  "interpreter": {
   "hash": "e95bce13e4db169b47bdd309c05ac04ccf184fde5dea3c872b3eaced1f835d0e"
  },
  "kernelspec": {
   "display_name": "Python 3.9.12 ('mr-p-solver-omUEglvW')",
   "language": "python",
   "name": "python3"
  },
  "language_info": {
   "codemirror_mode": {
    "name": "ipython",
    "version": 3
   },
   "file_extension": ".py",
   "mimetype": "text/x-python",
   "name": "python",
   "nbconvert_exporter": "python",
   "pygments_lexer": "ipython3",
   "version": "3.9.12"
  },
  "orig_nbformat": 4
 },
 "nbformat": 4,
 "nbformat_minor": 2
}
