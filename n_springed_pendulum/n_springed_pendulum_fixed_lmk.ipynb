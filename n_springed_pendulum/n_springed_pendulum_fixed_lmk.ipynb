{
 "cells": [
  {
   "cell_type": "markdown",
   "metadata": {},
   "source": [
    "# N-Springed Pendulum\n",
    "In this notebook we'll be solving the equations of motion for an n-springed pendulum which is impossible to do by hand. Based on [lukepolson's work](https://github.com/lukepolson/youtube_channel/blob/main/Python%20Metaphysics%20Series/vid7.ipynb)."
   ]
  },
  {
   "cell_type": "markdown",
   "metadata": {},
   "source": [
    "## Background\n",
    "Diagram of a double springed pendulum:\n",
    "\n",
    "<img src=\"double_springed_pendulum.svg\" alt=\"diagram\" width=\"400\"/>\n",
    "\n",
    "The variables involved are:\n",
    "- Time $t$\n",
    "- Gravitational acceleration $g$\n",
    "- Mass of pendulum bobs $m$\n",
    "- Spring constants $k$\n",
    "- Natural lengths of springs (when no massed is attached) $l$\n",
    "- Stretched lengths of the springs $r_i$\n",
    "- Angles that the spring makes with the horizontal plane $\\theta_i$\n",
    "\n",
    "The position of bob $j$, in cartesian coordinates are related to the length $r_j$ and angle $\\theta_j$ with the following formulas:\n",
    "\n",
    "$$\\displaystyle x_j= \\sum_{i=1}^j (l+r_i)cos\\theta_i $$\n",
    "$$\\displaystyle y_j= \\sum_{i=1}^j -(l+r_i)sin\\theta_i $$\n",
    "\n",
    "To simplify calculations, we will make $l$ the base unit such that our equations can become:\n",
    "$$\\displaystyle x_j= \\sum_{i=1}^j (1+r_i)cos\\theta_i $$\n",
    "$$\\displaystyle y_j= \\sum_{i=1}^j -(1+r_i)sin\\theta_i $$\n"
   ]
  },
  {
   "cell_type": "markdown",
   "metadata": {},
   "source": [
    "## Import libraries"
   ]
  },
  {
   "cell_type": "code",
   "execution_count": 1,
   "metadata": {},
   "outputs": [],
   "source": [
    "import numpy as np\n",
    "import sympy as smp\n",
    "import scipy.integrate\n",
    "import matplotlib.pyplot as plt\n",
    "import matplotlib.animation"
   ]
  },
  {
   "cell_type": "markdown",
   "metadata": {},
   "source": [
    "## Define variables"
   ]
  },
  {
   "cell_type": "markdown",
   "metadata": {},
   "source": [
    "### Set $n$\n",
    "The number of springs/bobs"
   ]
  },
  {
   "cell_type": "code",
   "execution_count": 7,
   "metadata": {},
   "outputs": [],
   "source": [
    "n = 2"
   ]
  },
  {
   "cell_type": "markdown",
   "metadata": {},
   "source": [
    "### Define time, gravitational constant, masses, spring constants, angles and stretched lengths"
   ]
  },
  {
   "cell_type": "code",
   "execution_count": 10,
   "metadata": {},
   "outputs": [],
   "source": [
    "# Define time and gravitational constant\n",
    "t, g, m, k = smp.symbols('t g m k')\n",
    "\n",
    "# Define lists of theta's and r's that are functions of time\n",
    "the = smp.symbols(rf'\\theta_:{n}', cls=smp.Function)\n",
    "the = [the_n(t) for the_n in the]\n",
    "r = smp.symbols(f'r_:{n}', cls=smp.Function)\n",
    "r = [r_n(t) for r_n in r]"
   ]
  },
  {
   "cell_type": "markdown",
   "metadata": {},
   "source": [
    "### Check that the symbols and functions have been correctly defined"
   ]
  },
  {
   "cell_type": "code",
   "execution_count": 11,
   "metadata": {},
   "outputs": [
    {
     "data": {
      "text/latex": [
       "$\\displaystyle \\operatorname{r_{0}}{\\left(t \\right)}$"
      ],
      "text/plain": [
       "r_0(t)"
      ]
     },
     "execution_count": 11,
     "metadata": {},
     "output_type": "execute_result"
    }
   ],
   "source": [
    "r[0]"
   ]
  },
  {
   "cell_type": "markdown",
   "metadata": {},
   "source": [
    "### Define the first and second derivatives of $\\theta$ and $r$"
   ]
  },
  {
   "cell_type": "code",
   "execution_count": 12,
   "metadata": {},
   "outputs": [],
   "source": [
    "the_d = [smp.diff(the_n, t) for the_n in the]\n",
    "the_dd = [smp.diff(the_d_n, t) for the_d_n in the_d]\n",
    "\n",
    "r_d = [smp.diff(r_n, t) for r_n in r]\n",
    "r_dd = [smp.diff(r_d_n, t) for r_d_n in r_d]"
   ]
  },
  {
   "cell_type": "markdown",
   "metadata": {},
   "source": [
    "### Verify definitions"
   ]
  },
  {
   "cell_type": "code",
   "execution_count": 13,
   "metadata": {},
   "outputs": [
    {
     "data": {
      "text/latex": [
       "$\\displaystyle \\frac{d^{2}}{d t^{2}} \\theta_{0}{\\left(t \\right)}$"
      ],
      "text/plain": [
       "Derivative(\\theta_0(t), (t, 2))"
      ]
     },
     "execution_count": 13,
     "metadata": {},
     "output_type": "execute_result"
    }
   ],
   "source": [
    "the_dd[0]"
   ]
  },
  {
   "cell_type": "code",
   "execution_count": 14,
   "metadata": {},
   "outputs": [
    {
     "data": {
      "text/latex": [
       "$\\displaystyle \\frac{d^{2}}{d t^{2}} \\operatorname{r_{0}}{\\left(t \\right)}$"
      ],
      "text/plain": [
       "Derivative(r_0(t), (t, 2))"
      ]
     },
     "execution_count": 14,
     "metadata": {},
     "output_type": "execute_result"
    }
   ],
   "source": [
    "r_dd[0]"
   ]
  },
  {
   "cell_type": "markdown",
   "metadata": {},
   "source": [
    "### Define cartesian coordinates of each bob $(x_j,y_j)$ \n",
    "where, $x_j$ and $y_j$ are functions of $\\theta_{0 \\leq i \\leq j}$ and $r_{0 \\leq i \\leq j}$\n"
   ]
  },
  {
   "cell_type": "code",
   "execution_count": 15,
   "metadata": {},
   "outputs": [],
   "source": [
    "x = list(smp.symbols(f'x_:{n}', cls=smp.Function))\n",
    "x = [x_j(*the[:j+1], *r[:j+1]) for j, x_j in enumerate(x)]\n",
    "y = list(smp.symbols(f'y_:{n}', cls=smp.Function))\n",
    "y = [y_j(*the[:j+1], *r[:j+1]) for j, y_j in enumerate(y)]"
   ]
  },
  {
   "cell_type": "code",
   "execution_count": 16,
   "metadata": {},
   "outputs": [
    {
     "data": {
      "text/latex": [
       "$\\displaystyle \\operatorname{y_{0}}{\\left(\\theta_{0}{\\left(t \\right)},\\operatorname{r_{0}}{\\left(t \\right)} \\right)}$"
      ],
      "text/plain": [
       "y_0(\\theta_0(t), r_0(t))"
      ]
     },
     "execution_count": 16,
     "metadata": {},
     "output_type": "execute_result"
    }
   ],
   "source": [
    "y[0]"
   ]
  },
  {
   "cell_type": "markdown",
   "metadata": {},
   "source": [
    "### Define the equations of the functions\n",
    "$$\\displaystyle x_j= \\sum_{i=0}^j (1+r_i)cos\\theta_i $$\n",
    "$$\\displaystyle y_j= \\sum_{i=0}^j -(1+r_i)sin\\theta_i $$"
   ]
  },
  {
   "cell_type": "code",
   "execution_count": 17,
   "metadata": {},
   "outputs": [],
   "source": [
    "for j in range(n):\n",
    "    x[j] = sum([(1+r[i])*smp.cos(the[i]) for i in range(j+1)])\n",
    "    x[j] = smp.simplify(x[j])\n",
    "    y[j] = sum([-(1+r[i])*smp.sin(the[i]) for i in range(j+1)])\n",
    "    y[j] = smp.simplify(y[j])"
   ]
  },
  {
   "cell_type": "markdown",
   "metadata": {},
   "source": [
    "### Verify equations"
   ]
  },
  {
   "cell_type": "code",
   "execution_count": 18,
   "metadata": {},
   "outputs": [
    {
     "data": {
      "text/latex": [
       "$\\displaystyle \\left(- \\operatorname{r_{0}}{\\left(t \\right)} - 1\\right) \\sin{\\left(\\theta_{0}{\\left(t \\right)} \\right)}$"
      ],
      "text/plain": [
       "(-r_0(t) - 1)*sin(\\theta_0(t))"
      ]
     },
     "execution_count": 18,
     "metadata": {},
     "output_type": "execute_result"
    }
   ],
   "source": [
    "y[0]"
   ]
  },
  {
   "cell_type": "code",
   "execution_count": 19,
   "metadata": {},
   "outputs": [
    {
     "data": {
      "text/latex": [
       "$\\displaystyle - \\left(\\operatorname{r_{0}}{\\left(t \\right)} + 1\\right) \\sin{\\left(\\theta_{0}{\\left(t \\right)} \\right)} - \\left(\\operatorname{r_{1}}{\\left(t \\right)} + 1\\right) \\sin{\\left(\\theta_{1}{\\left(t \\right)} \\right)}$"
      ],
      "text/plain": [
       "-(r_0(t) + 1)*sin(\\theta_0(t)) - (r_1(t) + 1)*sin(\\theta_1(t))"
      ]
     },
     "execution_count": 19,
     "metadata": {},
     "output_type": "execute_result"
    }
   ],
   "source": [
    "y[1]"
   ]
  },
  {
   "cell_type": "markdown",
   "metadata": {},
   "source": [
    "### Define the Lagrangian $L=T-V$ where,\n",
    "\n",
    "\n",
    "Total kinetic energy: \n",
    "$$\n",
    "T= \\displaystyle \\sum_{i=0}^{n-1} \\frac{1}{2}m(\\dot{x}^2_i+\\dot{y}^2_i)\n",
    "$$\n",
    "\n",
    "Total potential energy: \n",
    "$$\n",
    "V = \\displaystyle \\sum_{i=0}^{n-1} (\n",
    "        \\overbrace{m g y_i}^\n",
    "            {\\substack{\\text{gravitational} \\\\ \\text{potential} \\\\ \\text{energy}}} +\n",
    "        \\overbrace{\\frac{1}{2}k r_i^2}^\n",
    "            {\\substack{\\text{elastic} \\\\ \\text{potential} \\\\ \\text{energy}}}\n",
    "    )\n",
    "$$"
   ]
  },
  {
   "cell_type": "code",
   "execution_count": 20,
   "metadata": {},
   "outputs": [],
   "source": [
    "T = sum([1/2 * m * (smp.diff(x[i], t)**2 + smp.diff(y[i], t)**2) for i in range(n)])\n",
    "V = sum([m * g * y[i] + 1/2 * k * r[i]**2 for i in range(n)])\n",
    "L = T - V"
   ]
  },
  {
   "cell_type": "markdown",
   "metadata": {},
   "source": [
    "### Verify"
   ]
  },
  {
   "cell_type": "code",
   "execution_count": 21,
   "metadata": {},
   "outputs": [
    {
     "data": {
      "text/latex": [
       "$\\displaystyle 0.5 m \\left(\\left(\\left(- \\operatorname{r_{0}}{\\left(t \\right)} - 1\\right) \\cos{\\left(\\theta_{0}{\\left(t \\right)} \\right)} \\frac{d}{d t} \\theta_{0}{\\left(t \\right)} - \\sin{\\left(\\theta_{0}{\\left(t \\right)} \\right)} \\frac{d}{d t} \\operatorname{r_{0}}{\\left(t \\right)}\\right)^{2} + \\left(- \\left(\\operatorname{r_{0}}{\\left(t \\right)} + 1\\right) \\sin{\\left(\\theta_{0}{\\left(t \\right)} \\right)} \\frac{d}{d t} \\theta_{0}{\\left(t \\right)} + \\cos{\\left(\\theta_{0}{\\left(t \\right)} \\right)} \\frac{d}{d t} \\operatorname{r_{0}}{\\left(t \\right)}\\right)^{2}\\right) + 0.5 m \\left(\\left(\\left(- \\operatorname{r_{0}}{\\left(t \\right)} - 1\\right) \\cos{\\left(\\theta_{0}{\\left(t \\right)} \\right)} \\frac{d}{d t} \\theta_{0}{\\left(t \\right)} + \\left(- \\operatorname{r_{1}}{\\left(t \\right)} - 1\\right) \\cos{\\left(\\theta_{1}{\\left(t \\right)} \\right)} \\frac{d}{d t} \\theta_{1}{\\left(t \\right)} - \\sin{\\left(\\theta_{0}{\\left(t \\right)} \\right)} \\frac{d}{d t} \\operatorname{r_{0}}{\\left(t \\right)} - \\sin{\\left(\\theta_{1}{\\left(t \\right)} \\right)} \\frac{d}{d t} \\operatorname{r_{1}}{\\left(t \\right)}\\right)^{2} + \\left(- \\left(\\operatorname{r_{0}}{\\left(t \\right)} + 1\\right) \\sin{\\left(\\theta_{0}{\\left(t \\right)} \\right)} \\frac{d}{d t} \\theta_{0}{\\left(t \\right)} - \\left(\\operatorname{r_{1}}{\\left(t \\right)} + 1\\right) \\sin{\\left(\\theta_{1}{\\left(t \\right)} \\right)} \\frac{d}{d t} \\theta_{1}{\\left(t \\right)} + \\cos{\\left(\\theta_{0}{\\left(t \\right)} \\right)} \\frac{d}{d t} \\operatorname{r_{0}}{\\left(t \\right)} + \\cos{\\left(\\theta_{1}{\\left(t \\right)} \\right)} \\frac{d}{d t} \\operatorname{r_{1}}{\\left(t \\right)}\\right)^{2}\\right)$"
      ],
      "text/plain": [
       "0.5*m*(((-r_0(t) - 1)*cos(\\theta_0(t))*Derivative(\\theta_0(t), t) - sin(\\theta_0(t))*Derivative(r_0(t), t))**2 + (-(r_0(t) + 1)*sin(\\theta_0(t))*Derivative(\\theta_0(t), t) + cos(\\theta_0(t))*Derivative(r_0(t), t))**2) + 0.5*m*(((-r_0(t) - 1)*cos(\\theta_0(t))*Derivative(\\theta_0(t), t) + (-r_1(t) - 1)*cos(\\theta_1(t))*Derivative(\\theta_1(t), t) - sin(\\theta_0(t))*Derivative(r_0(t), t) - sin(\\theta_1(t))*Derivative(r_1(t), t))**2 + (-(r_0(t) + 1)*sin(\\theta_0(t))*Derivative(\\theta_0(t), t) - (r_1(t) + 1)*sin(\\theta_1(t))*Derivative(\\theta_1(t), t) + cos(\\theta_0(t))*Derivative(r_0(t), t) + cos(\\theta_1(t))*Derivative(r_1(t), t))**2)"
      ]
     },
     "execution_count": 21,
     "metadata": {},
     "output_type": "execute_result"
    }
   ],
   "source": [
    "T"
   ]
  },
  {
   "cell_type": "code",
   "execution_count": 22,
   "metadata": {},
   "outputs": [
    {
     "data": {
      "text/latex": [
       "$\\displaystyle g m \\left(- \\left(\\operatorname{r_{0}}{\\left(t \\right)} + 1\\right) \\sin{\\left(\\theta_{0}{\\left(t \\right)} \\right)} - \\left(\\operatorname{r_{1}}{\\left(t \\right)} + 1\\right) \\sin{\\left(\\theta_{1}{\\left(t \\right)} \\right)}\\right) + g m \\left(- \\operatorname{r_{0}}{\\left(t \\right)} - 1\\right) \\sin{\\left(\\theta_{0}{\\left(t \\right)} \\right)} + 0.5 k \\operatorname{r_{0}}^{2}{\\left(t \\right)} + 0.5 k \\operatorname{r_{1}}^{2}{\\left(t \\right)}$"
      ],
      "text/plain": [
       "g*m*(-(r_0(t) + 1)*sin(\\theta_0(t)) - (r_1(t) + 1)*sin(\\theta_1(t))) + g*m*(-r_0(t) - 1)*sin(\\theta_0(t)) + 0.5*k*r_0(t)**2 + 0.5*k*r_1(t)**2"
      ]
     },
     "execution_count": 22,
     "metadata": {},
     "output_type": "execute_result"
    }
   ],
   "source": [
    "V"
   ]
  },
  {
   "cell_type": "markdown",
   "metadata": {},
   "source": [
    "## Compute Lagrange's Equations\n",
    "\n",
    "$$\\frac{\\partial L}{\\partial z}-\\frac{d}{dt}\\frac{\\partial L}{\\partial \\dot{z}}=0$$\n",
    "\n",
    "where $z$ is each of $\\{\\theta_0, \\dots, \\theta_{n-1}, r_0, \\dots, r_{n-1}\\}$"
   ]
  },
  {
   "cell_type": "code",
   "execution_count": 26,
   "metadata": {},
   "outputs": [],
   "source": [
    "args = [*the, *r]\n",
    "args_d = [*the_d, *r_d]\n",
    "\n",
    "LE = [(smp.diff(L, arg) - smp.diff(smp.diff(L, args_d[i]), t)).simplify() for i, arg in enumerate(args)]"
   ]
  },
  {
   "cell_type": "code",
   "execution_count": 27,
   "metadata": {},
   "outputs": [
    {
     "name": "stdout",
     "output_type": "stream",
     "text": [
      "Number of Lagrange equations = 4\n"
     ]
    },
    {
     "data": {
      "text/latex": [
       "$\\displaystyle m \\left(2.0 g \\operatorname{r_{0}}{\\left(t \\right)} \\cos{\\left(\\theta_{0}{\\left(t \\right)} \\right)} + 2.0 g \\cos{\\left(\\theta_{0}{\\left(t \\right)} \\right)} - 2.0 \\operatorname{r_{0}}^{2}{\\left(t \\right)} \\frac{d^{2}}{d t^{2}} \\theta_{0}{\\left(t \\right)} - 1.0 \\operatorname{r_{0}}{\\left(t \\right)} \\operatorname{r_{1}}{\\left(t \\right)} \\sin{\\left(\\theta_{0}{\\left(t \\right)} - \\theta_{1}{\\left(t \\right)} \\right)} \\left(\\frac{d}{d t} \\theta_{1}{\\left(t \\right)}\\right)^{2} - 1.0 \\operatorname{r_{0}}{\\left(t \\right)} \\operatorname{r_{1}}{\\left(t \\right)} \\cos{\\left(\\theta_{0}{\\left(t \\right)} - \\theta_{1}{\\left(t \\right)} \\right)} \\frac{d^{2}}{d t^{2}} \\theta_{1}{\\left(t \\right)} - 1.0 \\operatorname{r_{0}}{\\left(t \\right)} \\sin{\\left(\\theta_{0}{\\left(t \\right)} - \\theta_{1}{\\left(t \\right)} \\right)} \\left(\\frac{d}{d t} \\theta_{1}{\\left(t \\right)}\\right)^{2} + 1.0 \\operatorname{r_{0}}{\\left(t \\right)} \\sin{\\left(\\theta_{0}{\\left(t \\right)} - \\theta_{1}{\\left(t \\right)} \\right)} \\frac{d^{2}}{d t^{2}} \\operatorname{r_{1}}{\\left(t \\right)} - 2.0 \\operatorname{r_{0}}{\\left(t \\right)} \\cos{\\left(\\theta_{0}{\\left(t \\right)} - \\theta_{1}{\\left(t \\right)} \\right)} \\frac{d}{d t} \\theta_{1}{\\left(t \\right)} \\frac{d}{d t} \\operatorname{r_{1}}{\\left(t \\right)} - 1.0 \\operatorname{r_{0}}{\\left(t \\right)} \\cos{\\left(\\theta_{0}{\\left(t \\right)} - \\theta_{1}{\\left(t \\right)} \\right)} \\frac{d^{2}}{d t^{2}} \\theta_{1}{\\left(t \\right)} - 4.0 \\operatorname{r_{0}}{\\left(t \\right)} \\frac{d}{d t} \\theta_{0}{\\left(t \\right)} \\frac{d}{d t} \\operatorname{r_{0}}{\\left(t \\right)} - 4.0 \\operatorname{r_{0}}{\\left(t \\right)} \\frac{d^{2}}{d t^{2}} \\theta_{0}{\\left(t \\right)} - 1.0 \\operatorname{r_{1}}{\\left(t \\right)} \\sin{\\left(\\theta_{0}{\\left(t \\right)} - \\theta_{1}{\\left(t \\right)} \\right)} \\left(\\frac{d}{d t} \\theta_{1}{\\left(t \\right)}\\right)^{2} - 1.0 \\operatorname{r_{1}}{\\left(t \\right)} \\cos{\\left(\\theta_{0}{\\left(t \\right)} - \\theta_{1}{\\left(t \\right)} \\right)} \\frac{d^{2}}{d t^{2}} \\theta_{1}{\\left(t \\right)} - 1.0 \\sin{\\left(\\theta_{0}{\\left(t \\right)} - \\theta_{1}{\\left(t \\right)} \\right)} \\left(\\frac{d}{d t} \\theta_{1}{\\left(t \\right)}\\right)^{2} + 1.0 \\sin{\\left(\\theta_{0}{\\left(t \\right)} - \\theta_{1}{\\left(t \\right)} \\right)} \\frac{d^{2}}{d t^{2}} \\operatorname{r_{1}}{\\left(t \\right)} - 2.0 \\cos{\\left(\\theta_{0}{\\left(t \\right)} - \\theta_{1}{\\left(t \\right)} \\right)} \\frac{d}{d t} \\theta_{1}{\\left(t \\right)} \\frac{d}{d t} \\operatorname{r_{1}}{\\left(t \\right)} - 1.0 \\cos{\\left(\\theta_{0}{\\left(t \\right)} - \\theta_{1}{\\left(t \\right)} \\right)} \\frac{d^{2}}{d t^{2}} \\theta_{1}{\\left(t \\right)} - 4.0 \\frac{d}{d t} \\theta_{0}{\\left(t \\right)} \\frac{d}{d t} \\operatorname{r_{0}}{\\left(t \\right)} - 2.0 \\frac{d^{2}}{d t^{2}} \\theta_{0}{\\left(t \\right)}\\right)$"
      ],
      "text/plain": [
       "m*(2.0*g*r_0(t)*cos(\\theta_0(t)) + 2.0*g*cos(\\theta_0(t)) - 2.0*r_0(t)**2*Derivative(\\theta_0(t), (t, 2)) - 1.0*r_0(t)*r_1(t)*sin(\\theta_0(t) - \\theta_1(t))*Derivative(\\theta_1(t), t)**2 - 1.0*r_0(t)*r_1(t)*cos(\\theta_0(t) - \\theta_1(t))*Derivative(\\theta_1(t), (t, 2)) - 1.0*r_0(t)*sin(\\theta_0(t) - \\theta_1(t))*Derivative(\\theta_1(t), t)**2 + 1.0*r_0(t)*sin(\\theta_0(t) - \\theta_1(t))*Derivative(r_1(t), (t, 2)) - 2.0*r_0(t)*cos(\\theta_0(t) - \\theta_1(t))*Derivative(\\theta_1(t), t)*Derivative(r_1(t), t) - 1.0*r_0(t)*cos(\\theta_0(t) - \\theta_1(t))*Derivative(\\theta_1(t), (t, 2)) - 4.0*r_0(t)*Derivative(\\theta_0(t), t)*Derivative(r_0(t), t) - 4.0*r_0(t)*Derivative(\\theta_0(t), (t, 2)) - 1.0*r_1(t)*sin(\\theta_0(t) - \\theta_1(t))*Derivative(\\theta_1(t), t)**2 - 1.0*r_1(t)*cos(\\theta_0(t) - \\theta_1(t))*Derivative(\\theta_1(t), (t, 2)) - 1.0*sin(\\theta_0(t) - \\theta_1(t))*Derivative(\\theta_1(t), t)**2 + 1.0*sin(\\theta_0(t) - \\theta_1(t))*Derivative(r_1(t), (t, 2)) - 2.0*cos(\\theta_0(t) - \\theta_1(t))*Derivative(\\theta_1(t), t)*Derivative(r_1(t), t) - 1.0*cos(\\theta_0(t) - \\theta_1(t))*Derivative(\\theta_1(t), (t, 2)) - 4.0*Derivative(\\theta_0(t), t)*Derivative(r_0(t), t) - 2.0*Derivative(\\theta_0(t), (t, 2)))"
      ]
     },
     "execution_count": 27,
     "metadata": {},
     "output_type": "execute_result"
    }
   ],
   "source": [
    "\n",
    "print(f'Number of Lagrange equations = {len(LE)}')\n",
    "LE[0]"
   ]
  },
  {
   "cell_type": "markdown",
   "metadata": {},
   "source": [
    "## Solve Lagrange Equations for $\\frac{d^2 z}{dt^2}$\n",
    "using an ODE solver,\n",
    "where $z$ is each of the free variables $\\{\\theta_0, \\dots, \\theta_{n-1}, r_0, \\dots, r_{n-1}\\}$.\n",
    "\n",
    "This will give us two equations for each free variable,\n",
    "$$\\displaystyle \\frac{dz}{dt} = v_z$$\n",
    "$$\\displaystyle \\frac{dv_z}{dt} = \\text{what we solved for}$$\n",
    "\n",
    "This turns our system of second order ordinary differential equations into systems of first order differential equations."
   ]
  },
  {
   "cell_type": "code",
   "execution_count": 28,
   "metadata": {},
   "outputs": [],
   "source": [
    "args_dd = (*the_dd, *r_dd)\n",
    "sols = smp.solve(LE, args_dd, simplify=False, rational=False)"
   ]
  },
  {
   "cell_type": "code",
   "execution_count": 30,
   "metadata": {},
   "outputs": [
    {
     "data": {
      "text/latex": [
       "$\\displaystyle - \\frac{0.00390625 g m \\sin{\\left(\\theta_{0}{\\left(t \\right)} - \\theta_{1}{\\left(t \\right)} \\right)} \\sin{\\left(\\theta_{1}{\\left(t \\right)} \\right)}}{0.00390625 m \\operatorname{r_{0}}{\\left(t \\right)} \\sin^{2}{\\left(\\theta_{0}{\\left(t \\right)} - \\theta_{1}{\\left(t \\right)} \\right)} + 0.00390625 m \\operatorname{r_{0}}{\\left(t \\right)} \\cos^{2}{\\left(\\theta_{0}{\\left(t \\right)} - \\theta_{1}{\\left(t \\right)} \\right)} - 0.0078125 m \\operatorname{r_{0}}{\\left(t \\right)} + 0.00390625 m \\sin^{2}{\\left(\\theta_{0}{\\left(t \\right)} - \\theta_{1}{\\left(t \\right)} \\right)} + 0.00390625 m \\cos^{2}{\\left(\\theta_{0}{\\left(t \\right)} - \\theta_{1}{\\left(t \\right)} \\right)} - 0.0078125 m} + \\frac{0.00390625 g m \\cos{\\left(\\theta_{0}{\\left(t \\right)} - \\theta_{1}{\\left(t \\right)} \\right)} \\cos{\\left(\\theta_{1}{\\left(t \\right)} \\right)}}{0.00390625 m \\operatorname{r_{0}}{\\left(t \\right)} \\sin^{2}{\\left(\\theta_{0}{\\left(t \\right)} - \\theta_{1}{\\left(t \\right)} \\right)} + 0.00390625 m \\operatorname{r_{0}}{\\left(t \\right)} \\cos^{2}{\\left(\\theta_{0}{\\left(t \\right)} - \\theta_{1}{\\left(t \\right)} \\right)} - 0.0078125 m \\operatorname{r_{0}}{\\left(t \\right)} + 0.00390625 m \\sin^{2}{\\left(\\theta_{0}{\\left(t \\right)} - \\theta_{1}{\\left(t \\right)} \\right)} + 0.00390625 m \\cos^{2}{\\left(\\theta_{0}{\\left(t \\right)} - \\theta_{1}{\\left(t \\right)} \\right)} - 0.0078125 m} - \\frac{0.0078125 g m \\cos{\\left(\\theta_{0}{\\left(t \\right)} \\right)}}{0.00390625 m \\operatorname{r_{0}}{\\left(t \\right)} \\sin^{2}{\\left(\\theta_{0}{\\left(t \\right)} - \\theta_{1}{\\left(t \\right)} \\right)} + 0.00390625 m \\operatorname{r_{0}}{\\left(t \\right)} \\cos^{2}{\\left(\\theta_{0}{\\left(t \\right)} - \\theta_{1}{\\left(t \\right)} \\right)} - 0.0078125 m \\operatorname{r_{0}}{\\left(t \\right)} + 0.00390625 m \\sin^{2}{\\left(\\theta_{0}{\\left(t \\right)} - \\theta_{1}{\\left(t \\right)} \\right)} + 0.00390625 m \\cos^{2}{\\left(\\theta_{0}{\\left(t \\right)} - \\theta_{1}{\\left(t \\right)} \\right)} - 0.0078125 m} + \\frac{0.00390625 k \\operatorname{r_{1}}{\\left(t \\right)} \\sin{\\left(\\theta_{0}{\\left(t \\right)} - \\theta_{1}{\\left(t \\right)} \\right)}}{0.00390625 m \\operatorname{r_{0}}{\\left(t \\right)} \\sin^{2}{\\left(\\theta_{0}{\\left(t \\right)} - \\theta_{1}{\\left(t \\right)} \\right)} + 0.00390625 m \\operatorname{r_{0}}{\\left(t \\right)} \\cos^{2}{\\left(\\theta_{0}{\\left(t \\right)} - \\theta_{1}{\\left(t \\right)} \\right)} - 0.0078125 m \\operatorname{r_{0}}{\\left(t \\right)} + 0.00390625 m \\sin^{2}{\\left(\\theta_{0}{\\left(t \\right)} - \\theta_{1}{\\left(t \\right)} \\right)} + 0.00390625 m \\cos^{2}{\\left(\\theta_{0}{\\left(t \\right)} - \\theta_{1}{\\left(t \\right)} \\right)} - 0.0078125 m} - \\frac{0.0078125 m \\sin^{2}{\\left(\\theta_{0}{\\left(t \\right)} - \\theta_{1}{\\left(t \\right)} \\right)} \\frac{d}{d t} \\theta_{0}{\\left(t \\right)} \\frac{d}{d t} \\operatorname{r_{0}}{\\left(t \\right)}}{0.00390625 m \\operatorname{r_{0}}{\\left(t \\right)} \\sin^{2}{\\left(\\theta_{0}{\\left(t \\right)} - \\theta_{1}{\\left(t \\right)} \\right)} + 0.00390625 m \\operatorname{r_{0}}{\\left(t \\right)} \\cos^{2}{\\left(\\theta_{0}{\\left(t \\right)} - \\theta_{1}{\\left(t \\right)} \\right)} - 0.0078125 m \\operatorname{r_{0}}{\\left(t \\right)} + 0.00390625 m \\sin^{2}{\\left(\\theta_{0}{\\left(t \\right)} - \\theta_{1}{\\left(t \\right)} \\right)} + 0.00390625 m \\cos^{2}{\\left(\\theta_{0}{\\left(t \\right)} - \\theta_{1}{\\left(t \\right)} \\right)} - 0.0078125 m} - \\frac{0.0078125 m \\cos^{2}{\\left(\\theta_{0}{\\left(t \\right)} - \\theta_{1}{\\left(t \\right)} \\right)} \\frac{d}{d t} \\theta_{0}{\\left(t \\right)} \\frac{d}{d t} \\operatorname{r_{0}}{\\left(t \\right)}}{0.00390625 m \\operatorname{r_{0}}{\\left(t \\right)} \\sin^{2}{\\left(\\theta_{0}{\\left(t \\right)} - \\theta_{1}{\\left(t \\right)} \\right)} + 0.00390625 m \\operatorname{r_{0}}{\\left(t \\right)} \\cos^{2}{\\left(\\theta_{0}{\\left(t \\right)} - \\theta_{1}{\\left(t \\right)} \\right)} - 0.0078125 m \\operatorname{r_{0}}{\\left(t \\right)} + 0.00390625 m \\sin^{2}{\\left(\\theta_{0}{\\left(t \\right)} - \\theta_{1}{\\left(t \\right)} \\right)} + 0.00390625 m \\cos^{2}{\\left(\\theta_{0}{\\left(t \\right)} - \\theta_{1}{\\left(t \\right)} \\right)} - 0.0078125 m} + \\frac{0.015625 m \\frac{d}{d t} \\theta_{0}{\\left(t \\right)} \\frac{d}{d t} \\operatorname{r_{0}}{\\left(t \\right)}}{0.00390625 m \\operatorname{r_{0}}{\\left(t \\right)} \\sin^{2}{\\left(\\theta_{0}{\\left(t \\right)} - \\theta_{1}{\\left(t \\right)} \\right)} + 0.00390625 m \\operatorname{r_{0}}{\\left(t \\right)} \\cos^{2}{\\left(\\theta_{0}{\\left(t \\right)} - \\theta_{1}{\\left(t \\right)} \\right)} - 0.0078125 m \\operatorname{r_{0}}{\\left(t \\right)} + 0.00390625 m \\sin^{2}{\\left(\\theta_{0}{\\left(t \\right)} - \\theta_{1}{\\left(t \\right)} \\right)} + 0.00390625 m \\cos^{2}{\\left(\\theta_{0}{\\left(t \\right)} - \\theta_{1}{\\left(t \\right)} \\right)} - 0.0078125 m}$"
      ],
      "text/plain": [
       "-0.00390625*g*m*sin(\\theta_0(t) - \\theta_1(t))*sin(\\theta_1(t))/(0.00390625*m*r_0(t)*sin(\\theta_0(t) - \\theta_1(t))**2 + 0.00390625*m*r_0(t)*cos(\\theta_0(t) - \\theta_1(t))**2 - 0.0078125*m*r_0(t) + 0.00390625*m*sin(\\theta_0(t) - \\theta_1(t))**2 + 0.00390625*m*cos(\\theta_0(t) - \\theta_1(t))**2 - 0.0078125*m) + 0.00390625*g*m*cos(\\theta_0(t) - \\theta_1(t))*cos(\\theta_1(t))/(0.00390625*m*r_0(t)*sin(\\theta_0(t) - \\theta_1(t))**2 + 0.00390625*m*r_0(t)*cos(\\theta_0(t) - \\theta_1(t))**2 - 0.0078125*m*r_0(t) + 0.00390625*m*sin(\\theta_0(t) - \\theta_1(t))**2 + 0.00390625*m*cos(\\theta_0(t) - \\theta_1(t))**2 - 0.0078125*m) - 0.0078125*g*m*cos(\\theta_0(t))/(0.00390625*m*r_0(t)*sin(\\theta_0(t) - \\theta_1(t))**2 + 0.00390625*m*r_0(t)*cos(\\theta_0(t) - \\theta_1(t))**2 - 0.0078125*m*r_0(t) + 0.00390625*m*sin(\\theta_0(t) - \\theta_1(t))**2 + 0.00390625*m*cos(\\theta_0(t) - \\theta_1(t))**2 - 0.0078125*m) + 0.00390625*k*r_1(t)*sin(\\theta_0(t) - \\theta_1(t))/(0.00390625*m*r_0(t)*sin(\\theta_0(t) - \\theta_1(t))**2 + 0.00390625*m*r_0(t)*cos(\\theta_0(t) - \\theta_1(t))**2 - 0.0078125*m*r_0(t) + 0.00390625*m*sin(\\theta_0(t) - \\theta_1(t))**2 + 0.00390625*m*cos(\\theta_0(t) - \\theta_1(t))**2 - 0.0078125*m) - 0.0078125*m*sin(\\theta_0(t) - \\theta_1(t))**2*Derivative(\\theta_0(t), t)*Derivative(r_0(t), t)/(0.00390625*m*r_0(t)*sin(\\theta_0(t) - \\theta_1(t))**2 + 0.00390625*m*r_0(t)*cos(\\theta_0(t) - \\theta_1(t))**2 - 0.0078125*m*r_0(t) + 0.00390625*m*sin(\\theta_0(t) - \\theta_1(t))**2 + 0.00390625*m*cos(\\theta_0(t) - \\theta_1(t))**2 - 0.0078125*m) - 0.0078125*m*cos(\\theta_0(t) - \\theta_1(t))**2*Derivative(\\theta_0(t), t)*Derivative(r_0(t), t)/(0.00390625*m*r_0(t)*sin(\\theta_0(t) - \\theta_1(t))**2 + 0.00390625*m*r_0(t)*cos(\\theta_0(t) - \\theta_1(t))**2 - 0.0078125*m*r_0(t) + 0.00390625*m*sin(\\theta_0(t) - \\theta_1(t))**2 + 0.00390625*m*cos(\\theta_0(t) - \\theta_1(t))**2 - 0.0078125*m) + 0.015625*m*Derivative(\\theta_0(t), t)*Derivative(r_0(t), t)/(0.00390625*m*r_0(t)*sin(\\theta_0(t) - \\theta_1(t))**2 + 0.00390625*m*r_0(t)*cos(\\theta_0(t) - \\theta_1(t))**2 - 0.0078125*m*r_0(t) + 0.00390625*m*sin(\\theta_0(t) - \\theta_1(t))**2 + 0.00390625*m*cos(\\theta_0(t) - \\theta_1(t))**2 - 0.0078125*m)"
      ]
     },
     "execution_count": 30,
     "metadata": {},
     "output_type": "execute_result"
    }
   ],
   "source": [
    "sols[args_dd[0]]"
   ]
  },
  {
   "cell_type": "markdown",
   "metadata": {},
   "source": [
    "## Create numerical functions for $v_z$ and $\\frac{dv_z}{dt}$\n",
    "where $z$ is each of the free variables $\\{\\theta_0, \\dots, \\theta_{n-1}, r_0, \\dots, r_{n-1}\\}$."
   ]
  },
  {
   "cell_type": "code",
   "execution_count": 31,
   "metadata": {},
   "outputs": [],
   "source": [
    "v_f = [smp.lambdify(args=args_d_i, expr=args_d_i) for args_d_i in args_d]\n",
    "v_d_f = [smp.lambdify(args=[m, k, g, *args, *args_d], expr=sols[args_dd_i]) for args_dd_i in args_dd]"
   ]
  },
  {
   "cell_type": "markdown",
   "metadata": {},
   "source": [
    "## Define our system of ODEs\n",
    "$$S=(v_0, \\dots, v_{2n-1}, \\frac{dv_0}{dt}, \\dots, \\frac{dv_{2n-1}}{dt})$$"
   ]
  },
  {
   "cell_type": "code",
   "execution_count": 43,
   "metadata": {},
   "outputs": [],
   "source": [
    "def dSdt(S, t):\n",
    "    return[\n",
    "        *[v_f_i(S[i + 2*n]) for i, v_f_i in enumerate(v_f)], # The input for the1_f is the1_d, so need to skip 2n to get to the derivatives of v\n",
    "        *[v_d_f_i(m, k, g, *S) for v_d_f_i in v_d_f]\n",
    "    ]"
   ]
  },
  {
   "cell_type": "markdown",
   "metadata": {},
   "source": [
    "## Solve ODEs\n",
    "to calculate how the free variables evolve over time for a particular set of fixed variables $g, m, k$ and initial conditions $\\displaystyle S_{t=0}=(v_{0_{t=0}}, \\dots, v_{2n-1_{t=0}}, \\frac{dv_{0_{t=0}}}{dt}, \\dots, \\frac{dv_{2n-1_{t=0}}}{dt})$"
   ]
  },
  {
   "cell_type": "code",
   "execution_count": 4,
   "metadata": {},
   "outputs": [],
   "source": [
    "t = np.linspace(0, 20, 500)\n",
    "g = 9.81\n",
    "m = 1\n",
    "k = 10\n",
    "s0=[np.pi/2, (3/2)*np.pi/2, 0, 0, 0, 0, 5, 5]"
   ]
  },
  {
   "cell_type": "code",
   "execution_count": null,
   "metadata": {},
   "outputs": [],
   "source": [
    "ans = scipy.integrate.odeint(dSdt, y0=s0, t=t)"
   ]
  },
  {
   "cell_type": "markdown",
   "metadata": {},
   "source": [
    "## Plot"
   ]
  },
  {
   "cell_type": "code",
   "execution_count": 64,
   "metadata": {},
   "outputs": [
    {
     "data": {
      "image/png": "[encoded data removed]",
      "text/plain": [
       "<Figure size 432x288 with 1 Axes>"
      ]
     },
     "metadata": {
      "needs_background": "light"
     },
     "output_type": "display_data"
    }
   ],
   "source": [
    "plt.plot(t, ans.T[0])\n",
    "plt.ylabel(r'$\\theta_0$')\n",
    "plt.xlabel(r'$t$')\n",
    "plt.title(r'$\\theta_0$ as a function of time');"
   ]
  },
  {
   "cell_type": "markdown",
   "metadata": {},
   "source": [
    "### Create numerical functions to get cartesian coordinates"
   ]
  },
  {
   "cell_type": "code",
   "execution_count": 46,
   "metadata": {},
   "outputs": [],
   "source": [
    "x_f = [smp.lambdify(args=[*the[:j+1], *r[:j+1]], expr=x_j) for j, x_j in enumerate(x)]\n",
    "y_f = [smp.lambdify(args=[*the[:j+1], *r[:j+1]], expr=y_j) for j, y_j in enumerate(y)]"
   ]
  },
  {
   "cell_type": "markdown",
   "metadata": {},
   "source": [
    "#### Sanity check for numerical functions for $(x_0,y_0)$"
   ]
  },
  {
   "cell_type": "markdown",
   "metadata": {},
   "source": [
    "with values\n",
    "- $l_0=1$\n",
    "- $r_0=1$\n",
    "- $0 \\leq \\theta_1 \\leq \\pi$\n",
    "\n",
    "Should see a semicircle with radius 2 which is the path traced out by the first bob"
   ]
  },
  {
   "cell_type": "code",
   "execution_count": 73,
   "metadata": {},
   "outputs": [
    {
     "data": {
      "image/png": "[encoded data removed]",
      "text/plain": [
       "<Figure size 432x288 with 1 Axes>"
      ]
     },
     "metadata": {
      "needs_background": "light"
     },
     "output_type": "display_data"
    }
   ],
   "source": [
    "temp_theta = np.linspace(0,np.pi,100)\n",
    "plt.plot(x_f[0](temp_theta,1), y_f[0](temp_theta,1), '-r')\n",
    "plt.axis('equal')\n",
    "plt.grid(True)"
   ]
  },
  {
   "cell_type": "markdown",
   "metadata": {},
   "source": [
    "### Get x and y values as functions of time"
   ]
  },
  {
   "cell_type": "code",
   "execution_count": 65,
   "metadata": {},
   "outputs": [],
   "source": [
    "the_vals = ans.T[0:n]\n",
    "r_vals = ans.T[n:2*n]\n",
    "x_vals = [x_f_i(*the_vals[:i+1], *r_vals[:i+1]) for i, x_f_i in enumerate(x_f)]\n",
    "y_vals = [y_f_i(*the_vals[:i+1], *r_vals[:i+1]) for i, y_f_i in enumerate(y_f)]\n"
   ]
  },
  {
   "cell_type": "markdown",
   "metadata": {},
   "source": [
    "### Animate"
   ]
  },
  {
   "cell_type": "code",
   "execution_count": 8,
   "metadata": {},
   "outputs": [
    {
     "data": {
      "text/plain": [
       "'animations_fixed_lmk/2_springed_pendulum_m_1_k_10_g_9dot81_s0_1dot57_2dot36_0_0_0_0_5_5.gif'"
      ]
     },
     "execution_count": 8,
     "metadata": {},
     "output_type": "execute_result"
    }
   ],
   "source": [
    "def stringify_number(x) -> str:\n",
    "    return str(round(x,2)).replace('.','dot')\n",
    "def stringify_list_of_numbers(t: list) -> str:\n",
    "    return '_'.join([stringify_number(x) for x in t])\n",
    "\n",
    "gif_file_name = f'{n}_springed_pendulum_m_{stringify_number(m)}_k_{stringify_number(k)}_g_{stringify_number(g)}_s0_{stringify_list_of_numbers(s0)}.gif'\n",
    "file_path = f'animations_fixed_lmk/{gif_file_name}'\n",
    "file_path"
   ]
  },
  {
   "cell_type": "code",
   "execution_count": 77,
   "metadata": {},
   "outputs": [],
   "source": [
    "def flatten(t):\n",
    "    return [item for sublist in t for item in sublist]"
   ]
  },
  {
   "cell_type": "code",
   "execution_count": 136,
   "metadata": {},
   "outputs": [],
   "source": [
    "%%capture\n",
    "fps = 25\n",
    "y_vals_flat = flatten(y_vals)\n",
    "y_min = min(y_vals_flat)-1\n",
    "y_max = max(y_vals_flat)+1\n",
    "x_vals_abs = [abs(val) for val in flatten(x_vals)]\n",
    "x_lim = max(x_vals_abs)+1\n",
    "\n",
    "def animate(i):\n",
    "    ln1.set_data([0, *[x_vals_j[i] for x_vals_j in x_vals]], [0, *[y_vals_j[i] for y_vals_j in y_vals]])\n",
    "    time.set_text(f't={round(i/fps)}s')\n",
    "    \n",
    "fig, ax = plt.subplots(1,1, figsize=(8,8))\n",
    "ax.grid()\n",
    "plt.title(f'{n}-Springed Pendulum')\n",
    "plt.ylabel(r'$y$')\n",
    "plt.xlabel(r'$x$')\n",
    "ln1, = plt.plot([], [], 'ro--', lw=3, markersize=8)\n",
    "ax.set_ylim(y_min, y_max)\n",
    "ax.set_xlim(-x_lim,x_lim)\n",
    "bbox = dict(boxstyle='square,pad=0.3', fc='white')\n",
    "annotation_text = '\\n'.join([f'$m={m}$', f'$g={g}$', f'$k={k}$\\n', 'initial cond:', *[f'${args[i]}={round(s0[i],2)}$' for i in range(2*n)], 'where $t=0$'])\n",
    "ax.text(0.05, 0.95, annotation_text,transform=ax.transAxes, bbox=bbox, va='top', ha='left')\n",
    "time = ax.text(0.95, 0.95, '',transform=ax.transAxes, va='top', ha='right')\n",
    "\n",
    "ani = matplotlib.animation.FuncAnimation(fig, animate, frames=500, interval=25)\n",
    "ani.save(file_path,writer='pillow',fps=fps, savefig_kwargs={'facecolor':'white'})"
   ]
  },
  {
   "cell_type": "code",
   "execution_count": 9,
   "metadata": {},
   "outputs": [
    {
     "data": {
      "text/markdown": [
       "![animation](animations_fixed_lmk/2_springed_pendulum_m_1_k_10_g_9dot81_s0_1dot57_2dot36_0_0_0_0_5_5.gif)"
      ],
      "text/plain": [
       "<IPython.core.display.Markdown object>"
      ]
     },
     "execution_count": 9,
     "metadata": {},
     "output_type": "execute_result"
    }
   ],
   "source": [
    "from IPython.display import Markdown\n",
    "Markdown(f'![animation]({file_path})')"
   ]
  }
 ],
 "metadata": {
  "interpreter": {
   "hash": "e95bce13e4db169b47bdd309c05ac04ccf184fde5dea3c872b3eaced1f835d0e"
  },
  "kernelspec": {
   "display_name": "Python 3.9.12 ('mr-p-solver-omUEglvW')",
   "language": "python",
   "name": "python3"
  },
  "language_info": {
   "codemirror_mode": {
    "name": "ipython",
    "version": 3
   },
   "file_extension": ".py",
   "mimetype": "text/x-python",
   "name": "python",
   "nbconvert_exporter": "python",
   "pygments_lexer": "ipython3",
   "version": "3.9.12"
  },
  "orig_nbformat": 4
 },
 "nbformat": 4,
 "nbformat_minor": 2
}
