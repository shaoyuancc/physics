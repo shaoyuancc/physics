{
 "cells": [
  {
   "cell_type": "markdown",
   "metadata": {},
   "source": [
    "# N-Springed Pendulum\n",
    "In this notebook we'll be solving the equations of motion for an n-springed pendulum which is impossible to do by hand. Based on [lukepolson's work](https://github.com/lukepolson/youtube_channel/blob/main/Python%20Metaphysics%20Series/vid7.ipynb)."
   ]
  },
  {
   "cell_type": "markdown",
   "metadata": {},
   "source": [
    "## Background\n",
    "Diagram of a double springed pendulum:\n",
    "\n",
    "<img src=\"double_springed_pendulum.svg\" alt=\"diagram\" width=\"400\"/>\n",
    "\n",
    "The variables involved are:\n",
    "- Time $t$\n",
    "- Gravitational acceleration $g$\n",
    "- Mass of pendulum bobs $m_n$\n",
    "- Spring constants $k_n$\n",
    "- Natural lengths of springs (when no massed is attached) $l_n$\n",
    "- Stretched lengths of the springs $r_n$\n",
    "- Angles that the spring makes with the horizontal plane $\\theta_n$\n",
    "\n",
    "The position of bob $j$, in cartesian coordinates are related to the lengths $l_j$ and $r_j$ and angle $\\theta_j$ with the following formulas:\n",
    "\n",
    "$$\\displaystyle x_j= \\sum_{n=1}^j (l_n+r_n)cos\\theta_n $$\n",
    "$$\\displaystyle y_j= \\sum_{n=1}^j -(l_n+r_n)sin\\theta_n $$\n"
   ]
  },
  {
   "cell_type": "markdown",
   "metadata": {},
   "source": [
    "## Import libraries"
   ]
  },
  {
   "cell_type": "code",
   "execution_count": 13,
   "metadata": {},
   "outputs": [],
   "source": [
    "import numpy as np\n",
    "import sympy as smp\n",
    "import scipy.integrate\n",
    "import matplotlib.pyplot as plt\n",
    "import matplotlib.animation"
   ]
  },
  {
   "cell_type": "markdown",
   "metadata": {},
   "source": [
    "## Define variables"
   ]
  },
  {
   "cell_type": "markdown",
   "metadata": {},
   "source": [
    "### Set $n$\n",
    "The number of springs/bobs"
   ]
  },
  {
   "cell_type": "code",
   "execution_count": 14,
   "metadata": {},
   "outputs": [],
   "source": [
    "n = 2"
   ]
  },
  {
   "cell_type": "markdown",
   "metadata": {},
   "source": [
    "### Define time, gravitational constant, masses, spring constants, natural lengths, angles and stretched lengths"
   ]
  },
  {
   "cell_type": "code",
   "execution_count": 15,
   "metadata": {},
   "outputs": [],
   "source": [
    "# Define time and gravitational constant\n",
    "t, g = smp.symbols('t g')\n",
    "\n",
    "# Define lists of masses, spring constants and natural lengths\n",
    "m, k, l = smp.symbols((f'm_:{n}', f'k_:{n}', f'l_:{n}'))\n",
    "\n",
    "# Define lists of theta's and r's that are functions of time\n",
    "the = smp.symbols(rf'\\theta_:{n}', cls=smp.Function)\n",
    "the = [the_n(t) for the_n in the]\n",
    "r = smp.symbols(f'r_:{n}', cls=smp.Function)\n",
    "r = [r_n(t) for r_n in r]"
   ]
  },
  {
   "cell_type": "markdown",
   "metadata": {},
   "source": [
    "### Check that the symbols and functions have been correctly defined"
   ]
  },
  {
   "cell_type": "code",
   "execution_count": 16,
   "metadata": {},
   "outputs": [
    {
     "data": {
      "text/latex": [
       "$\\displaystyle \\operatorname{r_{0}}{\\left(t \\right)}$"
      ],
      "text/plain": [
       "r_0(t)"
      ]
     },
     "execution_count": 16,
     "metadata": {},
     "output_type": "execute_result"
    }
   ],
   "source": [
    "r[0]"
   ]
  },
  {
   "cell_type": "markdown",
   "metadata": {},
   "source": [
    "### Define the first and second derivatives of $\\theta$ and $r$"
   ]
  },
  {
   "cell_type": "code",
   "execution_count": 17,
   "metadata": {},
   "outputs": [],
   "source": [
    "the_d = [smp.diff(the_n, t) for the_n in the]\n",
    "the_dd = [smp.diff(the_d_n, t) for the_d_n in the_d]\n",
    "\n",
    "r_d = [smp.diff(r_n, t) for r_n in r]\n",
    "r_dd = [smp.diff(r_d_n, t) for r_d_n in r_d]"
   ]
  },
  {
   "cell_type": "markdown",
   "metadata": {},
   "source": [
    "### Verify definitions"
   ]
  },
  {
   "cell_type": "code",
   "execution_count": 18,
   "metadata": {},
   "outputs": [
    {
     "data": {
      "text/latex": [
       "$\\displaystyle \\frac{d^{2}}{d t^{2}} \\theta_{0}{\\left(t \\right)}$"
      ],
      "text/plain": [
       "Derivative(\\theta_0(t), (t, 2))"
      ]
     },
     "execution_count": 18,
     "metadata": {},
     "output_type": "execute_result"
    }
   ],
   "source": [
    "the_dd[0]"
   ]
  },
  {
   "cell_type": "code",
   "execution_count": 19,
   "metadata": {},
   "outputs": [
    {
     "data": {
      "text/latex": [
       "$\\displaystyle \\frac{d^{2}}{d t^{2}} \\operatorname{r_{0}}{\\left(t \\right)}$"
      ],
      "text/plain": [
       "Derivative(r_0(t), (t, 2))"
      ]
     },
     "execution_count": 19,
     "metadata": {},
     "output_type": "execute_result"
    }
   ],
   "source": [
    "r_dd[0]"
   ]
  },
  {
   "cell_type": "markdown",
   "metadata": {},
   "source": [
    "### Define cartesian coordinates of each bob $(x_j,y_j)$ \n",
    "where, $x_j$ and $y_j$ are functions of $\\theta_{0 \\leq i \\leq j}$, $r_{0 \\leq i \\leq j}$ and $l_{0 \\leq i \\leq j}$\n"
   ]
  },
  {
   "cell_type": "code",
   "execution_count": 20,
   "metadata": {},
   "outputs": [],
   "source": [
    "x = list(smp.symbols(f'x_:{n}', cls=smp.Function))\n",
    "x = [x_j(*the[:j+1], *r[:j+1], *l[:j+1]) for j, x_j in enumerate(x)]\n",
    "y = list(smp.symbols(f'y_:{n}', cls=smp.Function))\n",
    "y = [y_j(*the[:j+1], *r[:j+1], *l[:j+1]) for j, y_j in enumerate(y)]"
   ]
  },
  {
   "cell_type": "code",
   "execution_count": 21,
   "metadata": {},
   "outputs": [
    {
     "data": {
      "text/latex": [
       "$\\displaystyle \\operatorname{y_{0}}{\\left(\\theta_{0}{\\left(t \\right)},\\operatorname{r_{0}}{\\left(t \\right)},l_{0} \\right)}$"
      ],
      "text/plain": [
       "y_0(\\theta_0(t), r_0(t), l_0)"
      ]
     },
     "execution_count": 21,
     "metadata": {},
     "output_type": "execute_result"
    }
   ],
   "source": [
    "y[0]"
   ]
  },
  {
   "cell_type": "markdown",
   "metadata": {},
   "source": [
    "### Define the equations of the functions\n",
    "$$\\displaystyle x_j= \\sum_{i=0}^j (l_i+r_i)cos\\theta_i $$\n",
    "$$\\displaystyle y_j= \\sum_{i=0}^j -(l_i+r_i)sin\\theta_i $$"
   ]
  },
  {
   "cell_type": "code",
   "execution_count": 22,
   "metadata": {},
   "outputs": [],
   "source": [
    "for j in range(n):\n",
    "    x[j] = sum([(l[i]+r[i])*smp.cos(the[i]) for i in range(j+1)])\n",
    "    x[j] = smp.simplify(x[j])\n",
    "    y[j] = sum([-(l[i]+r[i])*smp.sin(the[i]) for i in range(j+1)])\n",
    "    y[j] = smp.simplify(y[j])"
   ]
  },
  {
   "cell_type": "markdown",
   "metadata": {},
   "source": [
    "### Verify equations"
   ]
  },
  {
   "cell_type": "code",
   "execution_count": 23,
   "metadata": {},
   "outputs": [
    {
     "data": {
      "text/latex": [
       "$\\displaystyle \\left(- l_{0} - \\operatorname{r_{0}}{\\left(t \\right)}\\right) \\sin{\\left(\\theta_{0}{\\left(t \\right)} \\right)}$"
      ],
      "text/plain": [
       "(-l_0 - r_0(t))*sin(\\theta_0(t))"
      ]
     },
     "execution_count": 23,
     "metadata": {},
     "output_type": "execute_result"
    }
   ],
   "source": [
    "y[0]"
   ]
  },
  {
   "cell_type": "code",
   "execution_count": 24,
   "metadata": {},
   "outputs": [
    {
     "data": {
      "text/latex": [
       "$\\displaystyle - \\left(l_{0} + \\operatorname{r_{0}}{\\left(t \\right)}\\right) \\sin{\\left(\\theta_{0}{\\left(t \\right)} \\right)} - \\left(l_{1} + \\operatorname{r_{1}}{\\left(t \\right)}\\right) \\sin{\\left(\\theta_{1}{\\left(t \\right)} \\right)}$"
      ],
      "text/plain": [
       "-(l_0 + r_0(t))*sin(\\theta_0(t)) - (l_1 + r_1(t))*sin(\\theta_1(t))"
      ]
     },
     "execution_count": 24,
     "metadata": {},
     "output_type": "execute_result"
    }
   ],
   "source": [
    "y[1]"
   ]
  },
  {
   "cell_type": "markdown",
   "metadata": {},
   "source": [
    "### Define the Lagrangian $L=T-V$ where,\n",
    "\n",
    "\n",
    "Total kinetic energy: \n",
    "$$\n",
    "T= \\displaystyle \\sum_{i=0}^{n-1} \\frac{1}{2}m_i(\\dot{x}^2_i+\\dot{y}^2_i)\n",
    "$$\n",
    "\n",
    "Total potential energy: \n",
    "$$\n",
    "V = \\displaystyle \\sum_{i=0}^{n-1} (\n",
    "        \\overbrace{m_i g y_i}^\n",
    "            {\\substack{\\text{gravitational} \\\\ \\text{potential} \\\\ \\text{energy}}} +\n",
    "        \\overbrace{\\frac{1}{2}k_i r_i^2}^\n",
    "            {\\substack{\\text{elastic} \\\\ \\text{potential} \\\\ \\text{energy}}}\n",
    "    )\n",
    "$$"
   ]
  },
  {
   "cell_type": "code",
   "execution_count": 25,
   "metadata": {},
   "outputs": [],
   "source": [
    "T = sum([1/2 * m[i] * (smp.diff(x[i], t)**2 + smp.diff(y[i], t)**2) for i in range(n)])\n",
    "V = sum([m[i] * g * y[i] + 1/2 * k[i] * r[i]**2 for i in range(n)])\n",
    "L = T - V"
   ]
  },
  {
   "cell_type": "markdown",
   "metadata": {},
   "source": [
    "### Verify"
   ]
  },
  {
   "cell_type": "code",
   "execution_count": 26,
   "metadata": {},
   "outputs": [
    {
     "data": {
      "text/latex": [
       "$\\displaystyle 0.5 m_{0} \\left(\\left(\\left(- l_{0} - \\operatorname{r_{0}}{\\left(t \\right)}\\right) \\cos{\\left(\\theta_{0}{\\left(t \\right)} \\right)} \\frac{d}{d t} \\theta_{0}{\\left(t \\right)} - \\sin{\\left(\\theta_{0}{\\left(t \\right)} \\right)} \\frac{d}{d t} \\operatorname{r_{0}}{\\left(t \\right)}\\right)^{2} + \\left(- \\left(l_{0} + \\operatorname{r_{0}}{\\left(t \\right)}\\right) \\sin{\\left(\\theta_{0}{\\left(t \\right)} \\right)} \\frac{d}{d t} \\theta_{0}{\\left(t \\right)} + \\cos{\\left(\\theta_{0}{\\left(t \\right)} \\right)} \\frac{d}{d t} \\operatorname{r_{0}}{\\left(t \\right)}\\right)^{2}\\right) + 0.5 m_{1} \\left(\\left(\\left(- l_{0} - \\operatorname{r_{0}}{\\left(t \\right)}\\right) \\cos{\\left(\\theta_{0}{\\left(t \\right)} \\right)} \\frac{d}{d t} \\theta_{0}{\\left(t \\right)} + \\left(- l_{1} - \\operatorname{r_{1}}{\\left(t \\right)}\\right) \\cos{\\left(\\theta_{1}{\\left(t \\right)} \\right)} \\frac{d}{d t} \\theta_{1}{\\left(t \\right)} - \\sin{\\left(\\theta_{0}{\\left(t \\right)} \\right)} \\frac{d}{d t} \\operatorname{r_{0}}{\\left(t \\right)} - \\sin{\\left(\\theta_{1}{\\left(t \\right)} \\right)} \\frac{d}{d t} \\operatorname{r_{1}}{\\left(t \\right)}\\right)^{2} + \\left(- \\left(l_{0} + \\operatorname{r_{0}}{\\left(t \\right)}\\right) \\sin{\\left(\\theta_{0}{\\left(t \\right)} \\right)} \\frac{d}{d t} \\theta_{0}{\\left(t \\right)} - \\left(l_{1} + \\operatorname{r_{1}}{\\left(t \\right)}\\right) \\sin{\\left(\\theta_{1}{\\left(t \\right)} \\right)} \\frac{d}{d t} \\theta_{1}{\\left(t \\right)} + \\cos{\\left(\\theta_{0}{\\left(t \\right)} \\right)} \\frac{d}{d t} \\operatorname{r_{0}}{\\left(t \\right)} + \\cos{\\left(\\theta_{1}{\\left(t \\right)} \\right)} \\frac{d}{d t} \\operatorname{r_{1}}{\\left(t \\right)}\\right)^{2}\\right)$"
      ],
      "text/plain": [
       "0.5*m_0*(((-l_0 - r_0(t))*cos(\\theta_0(t))*Derivative(\\theta_0(t), t) - sin(\\theta_0(t))*Derivative(r_0(t), t))**2 + (-(l_0 + r_0(t))*sin(\\theta_0(t))*Derivative(\\theta_0(t), t) + cos(\\theta_0(t))*Derivative(r_0(t), t))**2) + 0.5*m_1*(((-l_0 - r_0(t))*cos(\\theta_0(t))*Derivative(\\theta_0(t), t) + (-l_1 - r_1(t))*cos(\\theta_1(t))*Derivative(\\theta_1(t), t) - sin(\\theta_0(t))*Derivative(r_0(t), t) - sin(\\theta_1(t))*Derivative(r_1(t), t))**2 + (-(l_0 + r_0(t))*sin(\\theta_0(t))*Derivative(\\theta_0(t), t) - (l_1 + r_1(t))*sin(\\theta_1(t))*Derivative(\\theta_1(t), t) + cos(\\theta_0(t))*Derivative(r_0(t), t) + cos(\\theta_1(t))*Derivative(r_1(t), t))**2)"
      ]
     },
     "execution_count": 26,
     "metadata": {},
     "output_type": "execute_result"
    }
   ],
   "source": [
    "T"
   ]
  },
  {
   "cell_type": "code",
   "execution_count": 27,
   "metadata": {},
   "outputs": [
    {
     "data": {
      "text/latex": [
       "$\\displaystyle g m_{0} \\left(- l_{0} - \\operatorname{r_{0}}{\\left(t \\right)}\\right) \\sin{\\left(\\theta_{0}{\\left(t \\right)} \\right)} + g m_{1} \\left(- \\left(l_{0} + \\operatorname{r_{0}}{\\left(t \\right)}\\right) \\sin{\\left(\\theta_{0}{\\left(t \\right)} \\right)} - \\left(l_{1} + \\operatorname{r_{1}}{\\left(t \\right)}\\right) \\sin{\\left(\\theta_{1}{\\left(t \\right)} \\right)}\\right) + 0.5 k_{0} \\operatorname{r_{0}}^{2}{\\left(t \\right)} + 0.5 k_{1} \\operatorname{r_{1}}^{2}{\\left(t \\right)}$"
      ],
      "text/plain": [
       "g*m_0*(-l_0 - r_0(t))*sin(\\theta_0(t)) + g*m_1*(-(l_0 + r_0(t))*sin(\\theta_0(t)) - (l_1 + r_1(t))*sin(\\theta_1(t))) + 0.5*k_0*r_0(t)**2 + 0.5*k_1*r_1(t)**2"
      ]
     },
     "execution_count": 27,
     "metadata": {},
     "output_type": "execute_result"
    }
   ],
   "source": [
    "V"
   ]
  },
  {
   "cell_type": "markdown",
   "metadata": {},
   "source": [
    "## Compute Lagrange's Equations\n",
    "\n",
    "$$\\frac{\\partial L}{\\partial z}-\\frac{d}{dt}\\frac{\\partial L}{\\partial \\dot{z}}=0$$\n",
    "\n",
    "where $z$ is each of $\\{\\theta_0, \\dots, \\theta_{n-1}, r_0, \\dots, r_{n-1}\\}$"
   ]
  },
  {
   "cell_type": "code",
   "execution_count": 32,
   "metadata": {},
   "outputs": [],
   "source": [
    "args = [*the, *r]\n",
    "args_d = [*the_d, *r_d]\n",
    "\n",
    "LE = [(smp.diff(L, arg) - smp.diff(smp.diff(L, args_d[i]), t)).simplify() for i, arg in enumerate(args)]"
   ]
  },
  {
   "cell_type": "code",
   "execution_count": 33,
   "metadata": {},
   "outputs": [
    {
     "name": "stdout",
     "output_type": "stream",
     "text": [
      "Number of Lagrange equations = 4\n"
     ]
    },
    {
     "data": {
      "text/latex": [
       "$\\displaystyle 1.0 g l_{0} m_{0} \\cos{\\left(\\theta_{0}{\\left(t \\right)} \\right)} + 1.0 g l_{0} m_{1} \\cos{\\left(\\theta_{0}{\\left(t \\right)} \\right)} + 1.0 g m_{0} \\operatorname{r_{0}}{\\left(t \\right)} \\cos{\\left(\\theta_{0}{\\left(t \\right)} \\right)} + 1.0 g m_{1} \\operatorname{r_{0}}{\\left(t \\right)} \\cos{\\left(\\theta_{0}{\\left(t \\right)} \\right)} - 1.0 l_{0}^{2} m_{0} \\frac{d^{2}}{d t^{2}} \\theta_{0}{\\left(t \\right)} - 1.0 l_{0}^{2} m_{1} \\frac{d^{2}}{d t^{2}} \\theta_{0}{\\left(t \\right)} - 1.0 l_{0} l_{1} m_{1} \\sin{\\left(\\theta_{0}{\\left(t \\right)} - \\theta_{1}{\\left(t \\right)} \\right)} \\left(\\frac{d}{d t} \\theta_{1}{\\left(t \\right)}\\right)^{2} - 1.0 l_{0} l_{1} m_{1} \\cos{\\left(\\theta_{0}{\\left(t \\right)} - \\theta_{1}{\\left(t \\right)} \\right)} \\frac{d^{2}}{d t^{2}} \\theta_{1}{\\left(t \\right)} - 2.0 l_{0} m_{0} \\operatorname{r_{0}}{\\left(t \\right)} \\frac{d^{2}}{d t^{2}} \\theta_{0}{\\left(t \\right)} - 2.0 l_{0} m_{0} \\frac{d}{d t} \\theta_{0}{\\left(t \\right)} \\frac{d}{d t} \\operatorname{r_{0}}{\\left(t \\right)} - 2.0 l_{0} m_{1} \\operatorname{r_{0}}{\\left(t \\right)} \\frac{d^{2}}{d t^{2}} \\theta_{0}{\\left(t \\right)} - 1.0 l_{0} m_{1} \\operatorname{r_{1}}{\\left(t \\right)} \\sin{\\left(\\theta_{0}{\\left(t \\right)} - \\theta_{1}{\\left(t \\right)} \\right)} \\left(\\frac{d}{d t} \\theta_{1}{\\left(t \\right)}\\right)^{2} - 1.0 l_{0} m_{1} \\operatorname{r_{1}}{\\left(t \\right)} \\cos{\\left(\\theta_{0}{\\left(t \\right)} - \\theta_{1}{\\left(t \\right)} \\right)} \\frac{d^{2}}{d t^{2}} \\theta_{1}{\\left(t \\right)} + 1.0 l_{0} m_{1} \\sin{\\left(\\theta_{0}{\\left(t \\right)} - \\theta_{1}{\\left(t \\right)} \\right)} \\frac{d^{2}}{d t^{2}} \\operatorname{r_{1}}{\\left(t \\right)} - 2.0 l_{0} m_{1} \\cos{\\left(\\theta_{0}{\\left(t \\right)} - \\theta_{1}{\\left(t \\right)} \\right)} \\frac{d}{d t} \\theta_{1}{\\left(t \\right)} \\frac{d}{d t} \\operatorname{r_{1}}{\\left(t \\right)} - 2.0 l_{0} m_{1} \\frac{d}{d t} \\theta_{0}{\\left(t \\right)} \\frac{d}{d t} \\operatorname{r_{0}}{\\left(t \\right)} - 1.0 l_{1} m_{1} \\operatorname{r_{0}}{\\left(t \\right)} \\sin{\\left(\\theta_{0}{\\left(t \\right)} - \\theta_{1}{\\left(t \\right)} \\right)} \\left(\\frac{d}{d t} \\theta_{1}{\\left(t \\right)}\\right)^{2} - 1.0 l_{1} m_{1} \\operatorname{r_{0}}{\\left(t \\right)} \\cos{\\left(\\theta_{0}{\\left(t \\right)} - \\theta_{1}{\\left(t \\right)} \\right)} \\frac{d^{2}}{d t^{2}} \\theta_{1}{\\left(t \\right)} - 1.0 m_{0} \\operatorname{r_{0}}^{2}{\\left(t \\right)} \\frac{d^{2}}{d t^{2}} \\theta_{0}{\\left(t \\right)} - 2.0 m_{0} \\operatorname{r_{0}}{\\left(t \\right)} \\frac{d}{d t} \\theta_{0}{\\left(t \\right)} \\frac{d}{d t} \\operatorname{r_{0}}{\\left(t \\right)} - 1.0 m_{1} \\operatorname{r_{0}}^{2}{\\left(t \\right)} \\frac{d^{2}}{d t^{2}} \\theta_{0}{\\left(t \\right)} - 1.0 m_{1} \\operatorname{r_{0}}{\\left(t \\right)} \\operatorname{r_{1}}{\\left(t \\right)} \\sin{\\left(\\theta_{0}{\\left(t \\right)} - \\theta_{1}{\\left(t \\right)} \\right)} \\left(\\frac{d}{d t} \\theta_{1}{\\left(t \\right)}\\right)^{2} - 1.0 m_{1} \\operatorname{r_{0}}{\\left(t \\right)} \\operatorname{r_{1}}{\\left(t \\right)} \\cos{\\left(\\theta_{0}{\\left(t \\right)} - \\theta_{1}{\\left(t \\right)} \\right)} \\frac{d^{2}}{d t^{2}} \\theta_{1}{\\left(t \\right)} + 1.0 m_{1} \\operatorname{r_{0}}{\\left(t \\right)} \\sin{\\left(\\theta_{0}{\\left(t \\right)} - \\theta_{1}{\\left(t \\right)} \\right)} \\frac{d^{2}}{d t^{2}} \\operatorname{r_{1}}{\\left(t \\right)} - 2.0 m_{1} \\operatorname{r_{0}}{\\left(t \\right)} \\cos{\\left(\\theta_{0}{\\left(t \\right)} - \\theta_{1}{\\left(t \\right)} \\right)} \\frac{d}{d t} \\theta_{1}{\\left(t \\right)} \\frac{d}{d t} \\operatorname{r_{1}}{\\left(t \\right)} - 2.0 m_{1} \\operatorname{r_{0}}{\\left(t \\right)} \\frac{d}{d t} \\theta_{0}{\\left(t \\right)} \\frac{d}{d t} \\operatorname{r_{0}}{\\left(t \\right)}$"
      ],
      "text/plain": [
       "1.0*g*l_0*m_0*cos(\\theta_0(t)) + 1.0*g*l_0*m_1*cos(\\theta_0(t)) + 1.0*g*m_0*r_0(t)*cos(\\theta_0(t)) + 1.0*g*m_1*r_0(t)*cos(\\theta_0(t)) - 1.0*l_0**2*m_0*Derivative(\\theta_0(t), (t, 2)) - 1.0*l_0**2*m_1*Derivative(\\theta_0(t), (t, 2)) - 1.0*l_0*l_1*m_1*sin(\\theta_0(t) - \\theta_1(t))*Derivative(\\theta_1(t), t)**2 - 1.0*l_0*l_1*m_1*cos(\\theta_0(t) - \\theta_1(t))*Derivative(\\theta_1(t), (t, 2)) - 2.0*l_0*m_0*r_0(t)*Derivative(\\theta_0(t), (t, 2)) - 2.0*l_0*m_0*Derivative(\\theta_0(t), t)*Derivative(r_0(t), t) - 2.0*l_0*m_1*r_0(t)*Derivative(\\theta_0(t), (t, 2)) - 1.0*l_0*m_1*r_1(t)*sin(\\theta_0(t) - \\theta_1(t))*Derivative(\\theta_1(t), t)**2 - 1.0*l_0*m_1*r_1(t)*cos(\\theta_0(t) - \\theta_1(t))*Derivative(\\theta_1(t), (t, 2)) + 1.0*l_0*m_1*sin(\\theta_0(t) - \\theta_1(t))*Derivative(r_1(t), (t, 2)) - 2.0*l_0*m_1*cos(\\theta_0(t) - \\theta_1(t))*Derivative(\\theta_1(t), t)*Derivative(r_1(t), t) - 2.0*l_0*m_1*Derivative(\\theta_0(t), t)*Derivative(r_0(t), t) - 1.0*l_1*m_1*r_0(t)*sin(\\theta_0(t) - \\theta_1(t))*Derivative(\\theta_1(t), t)**2 - 1.0*l_1*m_1*r_0(t)*cos(\\theta_0(t) - \\theta_1(t))*Derivative(\\theta_1(t), (t, 2)) - 1.0*m_0*r_0(t)**2*Derivative(\\theta_0(t), (t, 2)) - 2.0*m_0*r_0(t)*Derivative(\\theta_0(t), t)*Derivative(r_0(t), t) - 1.0*m_1*r_0(t)**2*Derivative(\\theta_0(t), (t, 2)) - 1.0*m_1*r_0(t)*r_1(t)*sin(\\theta_0(t) - \\theta_1(t))*Derivative(\\theta_1(t), t)**2 - 1.0*m_1*r_0(t)*r_1(t)*cos(\\theta_0(t) - \\theta_1(t))*Derivative(\\theta_1(t), (t, 2)) + 1.0*m_1*r_0(t)*sin(\\theta_0(t) - \\theta_1(t))*Derivative(r_1(t), (t, 2)) - 2.0*m_1*r_0(t)*cos(\\theta_0(t) - \\theta_1(t))*Derivative(\\theta_1(t), t)*Derivative(r_1(t), t) - 2.0*m_1*r_0(t)*Derivative(\\theta_0(t), t)*Derivative(r_0(t), t)"
      ]
     },
     "execution_count": 33,
     "metadata": {},
     "output_type": "execute_result"
    }
   ],
   "source": [
    "\n",
    "print(f'Number of Lagrange equations = {len(LE)}')\n",
    "LE[0]"
   ]
  },
  {
   "cell_type": "markdown",
   "metadata": {},
   "source": [
    "## Solve Lagrange Equations for $\\frac{d^2 z}{dt^2}$\n",
    "using an ODE solver,\n",
    "where $z$ is each of the free variables $\\{\\theta_0, \\dots, \\theta_{n-1}, r_0, \\dots, r_{n-1}\\}$.\n",
    "\n",
    "This will give us two equations for each free variable,\n",
    "$$\\displaystyle \\frac{dz}{dt} = v_z$$\n",
    "$$\\displaystyle \\frac{dv_z}{dt} = \\text{what we solved for}$$\n",
    "\n",
    "This turns our system of second order ordinary differential equations into systems of first order differential equations."
   ]
  },
  {
   "cell_type": "code",
   "execution_count": 34,
   "metadata": {},
   "outputs": [],
   "source": [
    "args_dd = (*the_dd, *r_dd)\n",
    "sols = smp.solve(LE, args_dd, simplify=False, rational=False)"
   ]
  },
  {
   "cell_type": "markdown",
   "metadata": {},
   "source": [
    "## Create numerical functions to get cartesian coordinates"
   ]
  },
  {
   "cell_type": "code",
   "execution_count": null,
   "metadata": {},
   "outputs": [],
   "source": [
    "x_f = [smp.lambdify(args=[*the[:j+1], *r[:j+1], *l[:j+1]], expr=x_j) for j, x_j in enumerate(x)]\n",
    "y_f = [smp.lambdify(args=[*the[:j+1], *r[:j+1], *l[:j+1]], expr=y_j) for j, y_j in enumerate(y)]"
   ]
  },
  {
   "cell_type": "markdown",
   "metadata": {},
   "source": [
    "Sanity check for numerical functions for $(x_0,y_0)$ with values\n",
    "- $l_0=1$\n",
    "- $r_0=1$\n",
    "- $0 \\leq \\theta_1 \\leq \\pi$\n",
    "\n",
    "Should see a semicircle with radius 2 which is the path traced out by the first bob"
   ]
  },
  {
   "cell_type": "code",
   "execution_count": null,
   "metadata": {},
   "outputs": [],
   "source": [
    "temp_theta = np.linspace(0,np.pi,100)\n",
    "plt.plot(x_f[0](temp_theta,1,1), y_f[0](temp_theta,1,1), '-r')\n",
    "plt.axis('equal')\n",
    "plt.grid(True)"
   ]
  },
  {
   "cell_type": "code",
   "execution_count": null,
   "metadata": {},
   "outputs": [],
   "source": []
  }
 ],
 "metadata": {
  "interpreter": {
   "hash": "e95bce13e4db169b47bdd309c05ac04ccf184fde5dea3c872b3eaced1f835d0e"
  },
  "kernelspec": {
   "display_name": "Python 3.9.12 ('mr-p-solver-omUEglvW')",
   "language": "python",
   "name": "python3"
  },
  "language_info": {
   "codemirror_mode": {
    "name": "ipython",
    "version": 3
   },
   "file_extension": ".py",
   "mimetype": "text/x-python",
   "name": "python",
   "nbconvert_exporter": "python",
   "pygments_lexer": "ipython3",
   "version": "3.9.12"
  },
  "orig_nbformat": 4
 },
 "nbformat": 4,
 "nbformat_minor": 2
}
